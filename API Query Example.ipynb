{
 "cells": [
  {
   "cell_type": "code",
   "execution_count": 16,
   "metadata": {},
   "outputs": [],
   "source": [
    "import urllib.request\n",
    "url = 'https://data.gov.au/data/api/3/action/datastore_search?resource_id=01760bd7-3e38-4854-be43-dc839e25f1f7&limit=10'  "
   ]
  },
  {
   "cell_type": "code",
   "execution_count": 17,
   "metadata": {},
   "outputs": [],
   "source": [
    "fileobj = urllib.request.urlopen(url)"
   ]
  },
  {
   "cell_type": "code",
   "execution_count": 18,
   "metadata": {},
   "outputs": [
    {
     "name": "stdout",
     "output_type": "stream",
     "text": [
      "https://data.gov.au/data/api/3/action/datastore_search?resource_id=01760bd7-3e38-4854-be43-dc839e25f1f7&limit=10\n"
     ]
    }
   ],
   "source": [
    "print(url)"
   ]
  },
  {
   "cell_type": "code",
   "execution_count": 19,
   "metadata": {},
   "outputs": [],
   "source": [
    "mybytes = fileobj.read()"
   ]
  },
  {
   "cell_type": "code",
   "execution_count": 20,
   "metadata": {},
   "outputs": [],
   "source": [
    "mystr = mybytes.decode(\"utf8\")"
   ]
  },
  {
   "cell_type": "code",
   "execution_count": 21,
   "metadata": {},
   "outputs": [
    {
     "name": "stdout",
     "output_type": "stream",
     "text": [
      "{\"help\": \"https://data.gov.au/data/api/3/action/help_show?name=datastore_search\", \"success\": true, \"result\": {\"include_total\": true, \"resource_id\": \"01760bd7-3e38-4854-be43-dc839e25f1f7\", \"fields\": [{\"type\": \"int\", \"id\": \"_id\"}, {\"type\": \"text\", \"id\": \"Age_Group\"}, {\"type\": \"text\", \"id\": \"Gender\"}, {\"type\": \"numeric\", \"id\": \"All\"}, {\"type\": \"text\", \"id\": \"Sole_Parent\"}, {\"type\": \"numeric\", \"id\": \"Indigenous\"}, {\"type\": \"numeric\", \"id\": \"Ex_Offender\"}, {\"type\": \"numeric\", \"id\": \"Mental_Health\"}, {\"type\": \"numeric\", \"id\": \"NESB\"}, {\"type\": \"numeric\", \"id\": \"Disability\"}, {\"type\": \"numeric\", \"id\": \"Refugee\"}, {\"type\": \"numeric\", \"id\": \"Homeless\"}, {\"type\": \"numeric\", \"id\": \"Bachelor\"}, {\"type\": \"numeric\", \"id\": \"Secondary\"}, {\"type\": \"numeric\", \"id\": \"Other_Post_Secondary\"}, {\"type\": \"numeric\", \"id\": \"Own_Transport\"}, {\"type\": \"numeric\", \"id\": \"Paid_FT\"}, {\"type\": \"numeric\", \"id\": \"Paid_PT\"}, {\"type\": \"numeric\", \"id\": \"NILF\"}, {\"type\": \"numeric\", \"id\": \"state_NSW\"}, {\"type\": \"numeric\", \"id\": \"state_QLD\"}, {\"type\": \"numeric\", \"id\": \"state_SA\"}, {\"type\": \"numeric\", \"id\": \"state_TAS\"}, {\"type\": \"numeric\", \"id\": \"state_VIC\"}, {\"type\": \"numeric\", \"id\": \"state_WA\"}], \"records_format\": \"objects\", \"records\": [{\"_id\":1,\"Age_Group\":\"15-24\",\"Gender\":\"Female\",\"All\":510,\"Sole_Parent\":\"13.0\",\"Indigenous\":20,\"Ex_Offender\":5,\"Mental_Health\":36,\"NESB\":38,\"Disability\":64,\"Refugee\":9,\"Homeless\":15,\"Bachelor\":78,\"Secondary\":150,\"Other_Post_Secondary\":211,\"Own_Transport\":240,\"Paid_FT\":71,\"Paid_PT\":65,\"NILF\":289,\"state_NSW\":122,\"state_QLD\":139,\"state_SA\":42,\"state_TAS\":25,\"state_VIC\":128,\"state_WA\":48},{\"_id\":2,\"Age_Group\":\"15-24\",\"Gender\":\"Male\",\"All\":559,\"Sole_Parent\":\"<5       \",\"Indigenous\":19,\"Ex_Offender\":10,\"Mental_Health\":27,\"NESB\":40,\"Disability\":55,\"Refugee\":8,\"Homeless\":34,\"Bachelor\":86,\"Secondary\":166,\"Other_Post_Secondary\":210,\"Own_Transport\":261,\"Paid_FT\":78,\"Paid_PT\":80,\"NILF\":306,\"state_NSW\":148,\"state_QLD\":147,\"state_SA\":66,\"state_TAS\":26,\"state_VIC\":110,\"state_WA\":53},{\"_id\":3,\"Age_Group\":\"25-34\",\"Gender\":\"Female\",\"All\":3154,\"Sole_Parent\":\"436.0\",\"Indigenous\":96,\"Ex_Offender\":45,\"Mental_Health\":266,\"NESB\":309,\"Disability\":437,\"Refugee\":38,\"Homeless\":124,\"Bachelor\":1115,\"Secondary\":574,\"Other_Post_Secondary\":1155,\"Own_Transport\":1891,\"Paid_FT\":846,\"Paid_PT\":583,\"NILF\":1194,\"state_NSW\":848,\"state_QLD\":763,\"state_SA\":233,\"state_TAS\":81,\"state_VIC\":913,\"state_WA\":266},{\"_id\":4,\"Age_Group\":\"25-34\",\"Gender\":\"Male\",\"All\":3494,\"Sole_Parent\":\"62.0\",\"Indigenous\":113,\"Ex_Offender\":211,\"Mental_Health\":286,\"NESB\":375,\"Disability\":498,\"Refugee\":58,\"Homeless\":193,\"Bachelor\":1045,\"Secondary\":737,\"Other_Post_Secondary\":1294,\"Own_Transport\":2161,\"Paid_FT\":1263,\"Paid_PT\":593,\"NILF\":1075,\"state_NSW\":953,\"state_QLD\":846,\"state_SA\":292,\"state_TAS\":128,\"state_VIC\":894,\"state_WA\":318},{\"_id\":5,\"Age_Group\":\"35-44\",\"Gender\":\"Female\",\"All\":3437,\"Sole_Parent\":\"1419.0\",\"Indigenous\":77,\"Ex_Offender\":49,\"Mental_Health\":291,\"NESB\":652,\"Disability\":499,\"Refugee\":29,\"Homeless\":103,\"Bachelor\":1002,\"Secondary\":611,\"Other_Post_Secondary\":1393,\"Own_Transport\":2464,\"Paid_FT\":821,\"Paid_PT\":601,\"NILF\":1424,\"state_NSW\":947,\"state_QLD\":892,\"state_SA\":189,\"state_TAS\":117,\"state_VIC\":864,\"state_WA\":375},{\"_id\":6,\"Age_Group\":\"35-44\",\"Gender\":\"Male\",\"All\":3387,\"Sole_Parent\":\"260.0\",\"Indigenous\":102,\"Ex_Offender\":253,\"Mental_Health\":349,\"NESB\":749,\"Disability\":701,\"Refugee\":85,\"Homeless\":194,\"Bachelor\":936,\"Secondary\":571,\"Other_Post_Secondary\":1382,\"Own_Transport\":2430,\"Paid_FT\":1546,\"Paid_PT\":503,\"NILF\":714,\"state_NSW\":975,\"state_QLD\":835,\"state_SA\":263,\"state_TAS\":105,\"state_VIC\":829,\"state_WA\":324},{\"_id\":7,\"Age_Group\":\"45-54\",\"Gender\":\"Female\",\"All\":3624,\"Sole_Parent\":\"1354.0\",\"Indigenous\":101,\"Ex_Offender\":62,\"Mental_Health\":427,\"NESB\":687,\"Disability\":790,\"Refugee\":50,\"Homeless\":96,\"Bachelor\":1013,\"Secondary\":562,\"Other_Post_Secondary\":1472,\"Own_Transport\":2870,\"Paid_FT\":906,\"Paid_PT\":716,\"NILF\":1464,\"state_NSW\":1023,\"state_QLD\":991,\"state_SA\":262,\"state_TAS\":109,\"state_VIC\":850,\"state_WA\":341},{\"_id\":8,\"Age_Group\":\"45-54\",\"Gender\":\"Male\",\"All\":2789,\"Sole_Parent\":\"270.0\",\"Indigenous\":83,\"Ex_Offender\":192,\"Mental_Health\":312,\"NESB\":569,\"Disability\":690,\"Refugee\":85,\"Homeless\":152,\"Bachelor\":724,\"Secondary\":455,\"Other_Post_Secondary\":1089,\"Own_Transport\":2110,\"Paid_FT\":1263,\"Paid_PT\":408,\"NILF\":546,\"state_NSW\":780,\"state_QLD\":702,\"state_SA\":237,\"state_TAS\":86,\"state_VIC\":653,\"state_WA\":290},{\"_id\":9,\"Age_Group\":\"55+\",\"Gender\":\"Female\",\"All\":2116,\"Sole_Parent\":\"150.0\",\"Indigenous\":37,\"Ex_Offender\":17,\"Mental_Health\":274,\"NESB\":338,\"Disability\":611,\"Refugee\":13,\"Homeless\":64,\"Bachelor\":547,\"Secondary\":331,\"Other_Post_Secondary\":835,\"Own_Transport\":1705,\"Paid_FT\":666,\"Paid_PT\":471,\"NILF\":572,\"state_NSW\":567,\"state_QLD\":618,\"state_SA\":143,\"state_TAS\":86,\"state_VIC\":454,\"state_WA\":212},{\"_id\":10,\"Age_Group\":\"55+\",\"Gender\":\"Male\",\"All\":2078,\"Sole_Parent\":\"94.0\",\"Indigenous\":43,\"Ex_Offender\":73,\"Mental_Health\":181,\"NESB\":443,\"Disability\":540,\"Refugee\":54,\"Homeless\":83,\"Bachelor\":543,\"Secondary\":311,\"Other_Post_Secondary\":839,\"Own_Transport\":1669,\"Paid_FT\":926,\"Paid_PT\":293,\"NILF\":395,\"state_NSW\":665,\"state_QLD\":518,\"state_SA\":156,\"state_TAS\":67,\"state_VIC\":420,\"state_WA\":223}], \"limit\": 10, \"_links\": {\"start\": \"/api/3/action/datastore_search?limit=10&resource_id=01760bd7-3e38-4854-be43-dc839e25f1f7\", \"next\": \"/api/3/action/datastore_search?offset=10&limit=10&resource_id=01760bd7-3e38-4854-be43-dc839e25f1f7\"}, \"total\": 10}}\n"
     ]
    }
   ],
   "source": [
    "print(mystr)"
   ]
  },
  {
   "cell_type": "code",
   "execution_count": null,
   "metadata": {},
   "outputs": [],
   "source": []
  }
 ],
 "metadata": {
  "kernelspec": {
   "display_name": "Python 3",
   "language": "python",
   "name": "python3"
  },
  "language_info": {
   "codemirror_mode": {
    "name": "ipython",
    "version": 3
   },
   "file_extension": ".py",
   "mimetype": "text/x-python",
   "name": "python",
   "nbconvert_exporter": "python",
   "pygments_lexer": "ipython3",
   "version": "3.7.4"
  }
 },
 "nbformat": 4,
 "nbformat_minor": 4
}
